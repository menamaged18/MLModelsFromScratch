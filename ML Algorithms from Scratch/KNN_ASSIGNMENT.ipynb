{
  "nbformat": 4,
  "nbformat_minor": 0,
  "metadata": {
    "colab": {
      "provenance": []
    },
    "kernelspec": {
      "name": "python3",
      "display_name": "Python 3"
    },
    "language_info": {
      "name": "python"
    }
  },
  "cells": [
    {
      "cell_type": "markdown",
      "source": [
        "### Important libraries"
      ],
      "metadata": {
        "id": "TkavPw8OM38X"
      }
    },
    {
      "cell_type": "code",
      "source": [
        "import numpy as np\n",
        "from collections import Counter\n",
        "import pandas as pd\n",
        "from sklearn import datasets\n",
        "from sklearn.model_selection import train_test_split\n",
        "import matplotlib.pyplot as plt\n",
        "from matplotlib.colors import ListedColormap\n",
        "import seaborn as sns\n",
        "from sklearn.utils import shuffle"
      ],
      "metadata": {
        "id": "vWLjc-hDNDmY"
      },
      "execution_count": 1,
      "outputs": []
    },
    {
      "cell_type": "markdown",
      "source": [
        "###  3 Distance Measures"
      ],
      "metadata": {
        "id": "V2zzSMoZSqjd"
      }
    },
    {
      "cell_type": "code",
      "source": [
        "# 0\n",
        "def euclidean_distance(x1, x2):\n",
        "    distance = np.sqrt(np.sum((x1-x2)**2))\n",
        "    return distance"
      ],
      "metadata": {
        "id": "wO0GsuwJNinf"
      },
      "execution_count": 2,
      "outputs": []
    },
    {
      "cell_type": "code",
      "source": [
        "# 1\n",
        "def manhattan_distance(x1, x2):\n",
        " return np.sum(np.abs(x1 - x2))"
      ],
      "metadata": {
        "id": "vUE8tRbkODnP"
      },
      "execution_count": 3,
      "outputs": []
    },
    {
      "cell_type": "code",
      "source": [
        "# 2\n",
        "def Cosine_similarity(x1, x2):\n",
        "    dot_product = np.dot(x1, x2)\n",
        "    norm_x1 = np.linalg.norm(x1)\n",
        "    norm_x2 = np.linalg.norm(x2)\n",
        "    cosine_similarity = dot_product // (norm_x1 * norm_x2)\n",
        "    return (1 - cosine_similarity)"
      ],
      "metadata": {
        "id": "pD3W8MuUYLQK"
      },
      "execution_count": 4,
      "outputs": []
    },
    {
      "cell_type": "markdown",
      "source": [
        "### KNN implementation"
      ],
      "metadata": {
        "id": "QZ4bCEGHSlYl"
      }
    },
    {
      "cell_type": "code",
      "source": [
        "class KNN:\n",
        "    # default value is 3\n",
        "    def __init__(self, k=3):\n",
        "        self.k = k\n",
        "\n",
        "    def fit(self, X, y,typ):\n",
        "        self.X_train = X\n",
        "        self.y_train = y\n",
        "        self.typp = typ\n",
        "\n",
        "    # Take all x test\n",
        "    def predict(self, X):\n",
        "        # pass every element in c test vector to _predict()\n",
        "        predictions = [self._predict(x) for x in X]\n",
        "        return predictions\n",
        "\n",
        "    # Helper function\n",
        "    # calculate x point , one single data point to all the distances and then return the label based on the k-nn\n",
        "    def _predict(self, x):\n",
        "      if self.typp == 0:\n",
        "        # compute the distances\n",
        "        distances = [euclidean_distance(x, x_train) for x_train in self.X_train]\n",
        "\n",
        "        # get the closest k\n",
        "        k_indices = np.argsort(distances)[:self.k] # here we sort the distances and pick the nearst k\n",
        "        k_nearest_labels = [self.y_train[i] for i in k_indices] # here we get the labels of the k nearst distances\n",
        "\n",
        "        # majority vote\n",
        "        # counter is a function that count how many times the k_nearsest_labels appeared\n",
        "        # and it will be something like that i.e [{1 : 4} , {2 : 2} , ... ] this means that class 1 appeared 4 times\n",
        "        most_common = Counter(k_nearest_labels).most_common()\n",
        "        return most_common[0][0]\n",
        "\n",
        "      elif self.typp == 1:\n",
        "        # compute the distance\n",
        "        distances = [manhattan_distance(x, x_train) for x_train in self.X_train]\n",
        "\n",
        "        # get the closest k\n",
        "        k_indices = np.argsort(distances)[:self.k]\n",
        "        k_nearest_labels = [self.y_train[i] for i in k_indices]\n",
        "\n",
        "        # majority voye\n",
        "        most_common = Counter(k_nearest_labels).most_common()\n",
        "        return most_common[0][0]\n",
        "      elif self.typp == 2:\n",
        "        # compute the distance\n",
        "        distances = [Cosine_similarity(x, x_train) for x_train in self.X_train]\n",
        "\n",
        "        # get the closest k\n",
        "        k_indices = np.argsort(distances)[:self.k]\n",
        "        k_nearest_labels = [self.y_train[i] for i in k_indices]\n",
        "\n",
        "        # majority voye\n",
        "        most_common = Counter(k_nearest_labels).most_common()\n",
        "        return most_common[0][0]"
      ],
      "metadata": {
        "id": "3oThUe7tNamh"
      },
      "execution_count": 5,
      "outputs": []
    },
    {
      "cell_type": "markdown",
      "source": [
        "### Load Data\n",
        "note: in order to make this run you have to upload the iris data as excel"
      ],
      "metadata": {
        "id": "eSL3I3SjSfjm"
      }
    },
    {
      "cell_type": "code",
      "source": [
        "iris = pd.read_csv(\"Iris.csv\")"
      ],
      "metadata": {
        "id": "4TodqrjXNpQb"
      },
      "execution_count": 6,
      "outputs": []
    },
    {
      "cell_type": "markdown",
      "source": [
        "randamize the data"
      ],
      "metadata": {
        "id": "XslUxJk0CpEw"
      }
    },
    {
      "cell_type": "code",
      "source": [
        "# Randomize the Data\n",
        "randomized_iris = shuffle(iris)\n",
        "\n",
        "# Reset index -> it's not necessary  -> creates a new DataFrame where the index is sequential from 0\n",
        "# in other words rest index added a new column in the left and start to count\n",
        "randomized_iris.reset_index(drop=True, inplace=True)\n",
        "\n",
        "print(randomized_iris.head())"
      ],
      "metadata": {
        "id": "gdbKYkk4CrTV",
        "colab": {
          "base_uri": "https://localhost:8080/"
        },
        "outputId": "9338362c-646b-4ff1-dfb1-bdb48f0caf8c"
      },
      "execution_count": 7,
      "outputs": [
        {
          "output_type": "stream",
          "name": "stdout",
          "text": [
            "   Id  SepalLengthCm  SepalWidthCm  PetalLengthCm  PetalWidthCm  \\\n",
            "0  40            5.1           3.4            1.5           0.2   \n",
            "1  70            5.6           2.5            3.9           1.1   \n",
            "2  36            5.0           3.2            1.2           0.2   \n",
            "3  25            4.8           3.4            1.9           0.2   \n",
            "4  11            5.4           3.7            1.5           0.2   \n",
            "\n",
            "           Species  \n",
            "0      Iris-setosa  \n",
            "1  Iris-versicolor  \n",
            "2      Iris-setosa  \n",
            "3      Iris-setosa  \n",
            "4      Iris-setosa  \n"
          ]
        }
      ]
    },
    {
      "cell_type": "markdown",
      "source": [
        "### Exploratory Data Analysis"
      ],
      "metadata": {
        "id": "8lfU72yeS6AX"
      }
    },
    {
      "cell_type": "code",
      "source": [
        "print(randomized_iris.head())\n",
        "\n",
        "randomized_iris.info()\n",
        "\n",
        "randomized_iris.describe()\n",
        "\n",
        "# Prepare 2 scatter plots - sepal_width vs sepal_length and petal_width vs petal_length\n",
        "sns.lmplot(x=\"SepalWidthCm\", y=\"SepalLengthCm\", hue=\"Species\", data=iris)\n",
        "sns.lmplot"
      ],
      "metadata": {
        "id": "wt4R38kLR01d",
        "colab": {
          "base_uri": "https://localhost:8080/",
          "height": 1000
        },
        "outputId": "309b7d3c-6468-4d97-a54c-89a88deb4a2f"
      },
      "execution_count": 8,
      "outputs": [
        {
          "output_type": "stream",
          "name": "stdout",
          "text": [
            "   Id  SepalLengthCm  SepalWidthCm  PetalLengthCm  PetalWidthCm  \\\n",
            "0  40            5.1           3.4            1.5           0.2   \n",
            "1  70            5.6           2.5            3.9           1.1   \n",
            "2  36            5.0           3.2            1.2           0.2   \n",
            "3  25            4.8           3.4            1.9           0.2   \n",
            "4  11            5.4           3.7            1.5           0.2   \n",
            "\n",
            "           Species  \n",
            "0      Iris-setosa  \n",
            "1  Iris-versicolor  \n",
            "2      Iris-setosa  \n",
            "3      Iris-setosa  \n",
            "4      Iris-setosa  \n",
            "<class 'pandas.core.frame.DataFrame'>\n",
            "RangeIndex: 150 entries, 0 to 149\n",
            "Data columns (total 6 columns):\n",
            " #   Column         Non-Null Count  Dtype  \n",
            "---  ------         --------------  -----  \n",
            " 0   Id             150 non-null    int64  \n",
            " 1   SepalLengthCm  150 non-null    float64\n",
            " 2   SepalWidthCm   150 non-null    float64\n",
            " 3   PetalLengthCm  150 non-null    float64\n",
            " 4   PetalWidthCm   150 non-null    float64\n",
            " 5   Species        150 non-null    object \n",
            "dtypes: float64(4), int64(1), object(1)\n",
            "memory usage: 7.2+ KB\n"
          ]
        },
        {
          "output_type": "execute_result",
          "data": {
            "text/plain": [
              "<function seaborn.regression.lmplot(data, *, x=None, y=None, hue=None, col=None, row=None, palette=None, col_wrap=None, height=5, aspect=1, markers='o', sharex=None, sharey=None, hue_order=None, col_order=None, row_order=None, legend=True, legend_out=None, x_estimator=None, x_bins=None, x_ci='ci', scatter=True, fit_reg=True, ci=95, n_boot=1000, units=None, seed=None, order=1, logistic=False, lowess=False, robust=False, logx=False, x_partial=None, y_partial=None, truncate=True, x_jitter=None, y_jitter=None, scatter_kws=None, line_kws=None, facet_kws=None)>"
            ],
            "text/html": [
              "<div style=\"max-width:800px; border: 1px solid var(--colab-border-color);\"><style>\n",
              "      pre.function-repr-contents {\n",
              "        overflow-x: auto;\n",
              "        padding: 8px 12px;\n",
              "        max-height: 500px;\n",
              "      }\n",
              "\n",
              "      pre.function-repr-contents.function-repr-contents-collapsed {\n",
              "        cursor: pointer;\n",
              "        max-height: 100px;\n",
              "      }\n",
              "    </style>\n",
              "    <pre style=\"white-space: initial; background:\n",
              "         var(--colab-secondary-surface-color); padding: 8px 12px;\n",
              "         border-bottom: 1px solid var(--colab-border-color);\"><b>seaborn.regression.lmplot</b><br/>def lmplot(data, *, x=None, y=None, hue=None, col=None, row=None, palette=None, col_wrap=None, height=5, aspect=1, markers=&#x27;o&#x27;, sharex=None, sharey=None, hue_order=None, col_order=None, row_order=None, legend=True, legend_out=None, x_estimator=None, x_bins=None, x_ci=&#x27;ci&#x27;, scatter=True, fit_reg=True, ci=95, n_boot=1000, units=None, seed=None, order=1, logistic=False, lowess=False, robust=False, logx=False, x_partial=None, y_partial=None, truncate=True, x_jitter=None, y_jitter=None, scatter_kws=None, line_kws=None, facet_kws=None)</pre><pre class=\"function-repr-contents function-repr-contents-collapsed\" style=\"\"><a class=\"filepath\" style=\"display:none\" href=\"#\">/usr/local/lib/python3.10/dist-packages/seaborn/regression.py</a>Plot data and regression model fits across a FacetGrid.\n",
              "\n",
              "This function combines :func:`regplot` and :class:`FacetGrid`. It is\n",
              "intended as a convenient interface to fit regression models across\n",
              "conditional subsets of a dataset.\n",
              "\n",
              "When thinking about how to assign variables to different facets, a general\n",
              "rule is that it makes sense to use ``hue`` for the most important\n",
              "comparison, followed by ``col`` and ``row``. However, always think about\n",
              "your particular dataset and the goals of the visualization you are\n",
              "creating.\n",
              "\n",
              "There are a number of mutually exclusive options for estimating the\n",
              "regression model. See the :ref:`tutorial &lt;regression_tutorial&gt;` for more\n",
              "information.    \n",
              "\n",
              "The parameters to this function span most of the options in\n",
              ":class:`FacetGrid`, although there may be occasional cases where you will\n",
              "want to use that class and :func:`regplot` directly.\n",
              "\n",
              "Parameters\n",
              "----------\n",
              "data : DataFrame\n",
              "    Tidy (&quot;long-form&quot;) dataframe where each column is a variable and each\n",
              "    row is an observation.    \n",
              "x, y : strings, optional\n",
              "    Input variables; these should be column names in ``data``.\n",
              "hue, col, row : strings\n",
              "    Variables that define subsets of the data, which will be drawn on\n",
              "    separate facets in the grid. See the ``*_order`` parameters to control\n",
              "    the order of levels of this variable.\n",
              "palette : palette name, list, or dict\n",
              "    Colors to use for the different levels of the ``hue`` variable. Should\n",
              "    be something that can be interpreted by :func:`color_palette`, or a\n",
              "    dictionary mapping hue levels to matplotlib colors.    \n",
              "col_wrap : int\n",
              "    &quot;Wrap&quot; the column variable at this width, so that the column facets\n",
              "    span multiple rows. Incompatible with a ``row`` facet.    \n",
              "height : scalar\n",
              "    Height (in inches) of each facet. See also: ``aspect``.    \n",
              "aspect : scalar\n",
              "    Aspect ratio of each facet, so that ``aspect * height`` gives the width\n",
              "    of each facet in inches.    \n",
              "markers : matplotlib marker code or list of marker codes, optional\n",
              "    Markers for the scatterplot. If a list, each marker in the list will be\n",
              "    used for each level of the ``hue`` variable.\n",
              "share{x,y} : bool, &#x27;col&#x27;, or &#x27;row&#x27; optional\n",
              "    If true, the facets will share y axes across columns and/or x axes\n",
              "    across rows.    \n",
              "\n",
              "    .. deprecated:: 0.12.0\n",
              "        Pass using the `facet_kws` dictionary.\n",
              "\n",
              "{hue,col,row}_order : lists, optional\n",
              "    Order for the levels of the faceting variables. By default, this will\n",
              "    be the order that the levels appear in ``data`` or, if the variables\n",
              "    are pandas categoricals, the category order.\n",
              "legend : bool, optional\n",
              "    If ``True`` and there is a ``hue`` variable, add a legend.\n",
              "legend_out : bool\n",
              "    If ``True``, the figure size will be extended, and the legend will be\n",
              "    drawn outside the plot on the center right.    \n",
              "\n",
              "    .. deprecated:: 0.12.0\n",
              "        Pass using the `facet_kws` dictionary.\n",
              "\n",
              "x_estimator : callable that maps vector -&gt; scalar, optional\n",
              "    Apply this function to each unique value of ``x`` and plot the\n",
              "    resulting estimate. This is useful when ``x`` is a discrete variable.\n",
              "    If ``x_ci`` is given, this estimate will be bootstrapped and a\n",
              "    confidence interval will be drawn.    \n",
              "x_bins : int or vector, optional\n",
              "    Bin the ``x`` variable into discrete bins and then estimate the central\n",
              "    tendency and a confidence interval. This binning only influences how\n",
              "    the scatterplot is drawn; the regression is still fit to the original\n",
              "    data.  This parameter is interpreted either as the number of\n",
              "    evenly-sized (not necessary spaced) bins or the positions of the bin\n",
              "    centers. When this parameter is used, it implies that the default of\n",
              "    ``x_estimator`` is ``numpy.mean``.    \n",
              "x_ci : &quot;ci&quot;, &quot;sd&quot;, int in [0, 100] or None, optional\n",
              "    Size of the confidence interval used when plotting a central tendency\n",
              "    for discrete values of ``x``. If ``&quot;ci&quot;``, defer to the value of the\n",
              "    ``ci`` parameter. If ``&quot;sd&quot;``, skip bootstrapping and show the\n",
              "    standard deviation of the observations in each bin.    \n",
              "scatter : bool, optional\n",
              "    If ``True``, draw a scatterplot with the underlying observations (or\n",
              "    the ``x_estimator`` values).    \n",
              "fit_reg : bool, optional\n",
              "    If ``True``, estimate and plot a regression model relating the ``x``\n",
              "    and ``y`` variables.    \n",
              "ci : int in [0, 100] or None, optional\n",
              "    Size of the confidence interval for the regression estimate. This will\n",
              "    be drawn using translucent bands around the regression line. The\n",
              "    confidence interval is estimated using a bootstrap; for large\n",
              "    datasets, it may be advisable to avoid that computation by setting\n",
              "    this parameter to None.    \n",
              "n_boot : int, optional\n",
              "    Number of bootstrap resamples used to estimate the ``ci``. The default\n",
              "    value attempts to balance time and stability; you may want to increase\n",
              "    this value for &quot;final&quot; versions of plots.    \n",
              "units : variable name in ``data``, optional\n",
              "    If the ``x`` and ``y`` observations are nested within sampling units,\n",
              "    those can be specified here. This will be taken into account when\n",
              "    computing the confidence intervals by performing a multilevel bootstrap\n",
              "    that resamples both units and observations (within unit). This does not\n",
              "    otherwise influence how the regression is estimated or drawn.    \n",
              "seed : int, numpy.random.Generator, or numpy.random.RandomState, optional\n",
              "    Seed or random number generator for reproducible bootstrapping.    \n",
              "order : int, optional\n",
              "    If ``order`` is greater than 1, use ``numpy.polyfit`` to estimate a\n",
              "    polynomial regression.    \n",
              "logistic : bool, optional\n",
              "    If ``True``, assume that ``y`` is a binary variable and use\n",
              "    ``statsmodels`` to estimate a logistic regression model. Note that this\n",
              "    is substantially more computationally intensive than linear regression,\n",
              "    so you may wish to decrease the number of bootstrap resamples\n",
              "    (``n_boot``) or set ``ci`` to None.    \n",
              "lowess : bool, optional\n",
              "    If ``True``, use ``statsmodels`` to estimate a nonparametric lowess\n",
              "    model (locally weighted linear regression). Note that confidence\n",
              "    intervals cannot currently be drawn for this kind of model.    \n",
              "robust : bool, optional\n",
              "    If ``True``, use ``statsmodels`` to estimate a robust regression. This\n",
              "    will de-weight outliers. Note that this is substantially more\n",
              "    computationally intensive than standard linear regression, so you may\n",
              "    wish to decrease the number of bootstrap resamples (``n_boot``) or set\n",
              "    ``ci`` to None.    \n",
              "logx : bool, optional\n",
              "    If ``True``, estimate a linear regression of the form y ~ log(x), but\n",
              "    plot the scatterplot and regression model in the input space. Note that\n",
              "    ``x`` must be positive for this to work.    \n",
              "{x,y}_partial : strings in ``data`` or matrices\n",
              "    Confounding variables to regress out of the ``x`` or ``y`` variables\n",
              "    before plotting.    \n",
              "truncate : bool, optional\n",
              "    If ``True``, the regression line is bounded by the data limits. If\n",
              "    ``False``, it extends to the ``x`` axis limits.\n",
              "\n",
              "{x,y}_jitter : floats, optional\n",
              "    Add uniform random noise of this size to either the ``x`` or ``y``\n",
              "    variables. The noise is added to a copy of the data after fitting the\n",
              "    regression, and only influences the look of the scatterplot. This can\n",
              "    be helpful when plotting variables that take discrete values.    \n",
              "{scatter,line}_kws : dictionaries\n",
              "    Additional keyword arguments to pass to ``plt.scatter`` and\n",
              "    ``plt.plot``.    \n",
              "facet_kws : dict\n",
              "    Dictionary of keyword arguments for :class:`FacetGrid`.\n",
              "\n",
              "See Also\n",
              "--------\n",
              "regplot : Plot data and a conditional model fit.\n",
              "FacetGrid : Subplot grid for plotting conditional relationships.\n",
              "pairplot : Combine :func:`regplot` and :class:`PairGrid` (when used with\n",
              "           ``kind=&quot;reg&quot;``).\n",
              "\n",
              "Notes\n",
              "-----\n",
              "\n",
              "The :func:`regplot` and :func:`lmplot` functions are closely related, but\n",
              "the former is an axes-level function while the latter is a figure-level\n",
              "function that combines :func:`regplot` and :class:`FacetGrid`.    \n",
              "\n",
              "Examples\n",
              "--------\n",
              "\n",
              ".. include:: ../docstrings/lmplot.rst</pre>\n",
              "      <script>\n",
              "      if (google.colab.kernel.accessAllowed && google.colab.files && google.colab.files.view) {\n",
              "        for (const element of document.querySelectorAll('.filepath')) {\n",
              "          element.style.display = 'block'\n",
              "          element.onclick = (event) => {\n",
              "            event.preventDefault();\n",
              "            event.stopPropagation();\n",
              "            google.colab.files.view(element.textContent, 576);\n",
              "          };\n",
              "        }\n",
              "      }\n",
              "      for (const element of document.querySelectorAll('.function-repr-contents')) {\n",
              "        element.onclick = (event) => {\n",
              "          event.preventDefault();\n",
              "          event.stopPropagation();\n",
              "          element.classList.toggle('function-repr-contents-collapsed');\n",
              "        };\n",
              "      }\n",
              "      </script>\n",
              "      </div>"
            ]
          },
          "metadata": {},
          "execution_count": 8
        },
        {
          "output_type": "display_data",
          "data": {
            "text/plain": [
              "<Figure size 643x500 with 1 Axes>"
            ],
            "image/png": "[encoded data removed]"
          },
          "metadata": {}
        }
      ]
    },
    {
      "cell_type": "code",
      "source": [
        "iris['Species'].replace({'Iris-setosa':1.0,'Iris-versicolor':2.0,'Iris-virginica':3.0},inplace = True)"
      ],
      "metadata": {
        "id": "1p69Z9ZYj_sd"
      },
      "execution_count": 9,
      "outputs": []
    },
    {
      "cell_type": "code",
      "source": [
        "# Split the data into training and testing sets\n",
        "X = randomized_iris.drop(['Species' , 'Id'], axis=1)\n",
        "y = randomized_iris['Species']\n",
        "X = np.array(X)\n",
        "y = np.array(y)\n",
        "X_train, X_test, y_train, y_test = train_test_split(X, y, test_size=0.3, random_state=5000)"
      ],
      "metadata": {
        "id": "7Xis-bndjgtN"
      },
      "execution_count": 10,
      "outputs": []
    },
    {
      "cell_type": "markdown",
      "source": [
        "testing the euclidean_distance\n",
        "\n"
      ],
      "metadata": {
        "id": "gzmJKoWzExrv"
      }
    },
    {
      "cell_type": "code",
      "source": [
        "clf = KNN(k=5)\n",
        "clf.fit(X_train, y_train,0)\n",
        "\n",
        "predictions = clf.predict(X_test)\n",
        "predictions = np.array(predictions)\n",
        "\n",
        "acc = np.sum(predictions == y_test) / len(y_test)\n",
        "print(acc)"
      ],
      "metadata": {
        "id": "jxZbWijJP-mn",
        "colab": {
          "base_uri": "https://localhost:8080/"
        },
        "outputId": "67992a8d-f724-4e75-9b69-03851d2ca023"
      },
      "execution_count": 12,
      "outputs": [
        {
          "output_type": "stream",
          "name": "stdout",
          "text": [
            "0.9777777777777777\n"
          ]
        }
      ]
    },
    {
      "cell_type": "markdown",
      "source": [
        "testing the manhattan distance"
      ],
      "metadata": {
        "id": "NSOyszzNE-a3"
      }
    },
    {
      "cell_type": "code",
      "source": [
        "clf = KNN(k=5)\n",
        "clf.fit(X_train, y_train,1)\n",
        "\n",
        "predictions = clf.predict(X_test)\n",
        "predictions = np.array(predictions)\n",
        "\n",
        "acc = np.sum(predictions == y_test) / len(y_test)\n",
        "print(acc)"
      ],
      "metadata": {
        "id": "s5HQ1GXhFC5K",
        "colab": {
          "base_uri": "https://localhost:8080/"
        },
        "outputId": "ef3af774-3998-4ecf-e1e4-d38b29986071"
      },
      "execution_count": 13,
      "outputs": [
        {
          "output_type": "stream",
          "name": "stdout",
          "text": [
            "0.9777777777777777\n"
          ]
        }
      ]
    },
    {
      "cell_type": "markdown",
      "source": [
        "testing the Cosine_similarity"
      ],
      "metadata": {
        "id": "LdQrhSEXFIbH"
      }
    },
    {
      "cell_type": "code",
      "source": [
        "clf = KNN(k=5)\n",
        "clf.fit(X_train, y_train,2)\n",
        "\n",
        "predictions = clf.predict(X_test)\n",
        "predictions = np.array(predictions)\n",
        "\n",
        "acc = np.sum(predictions == y_test) / len(y_test)\n",
        "print(acc)"
      ],
      "metadata": {
        "id": "LedY7MKvFO-C",
        "colab": {
          "base_uri": "https://localhost:8080/"
        },
        "outputId": "19373d8b-35c3-4281-e7f3-23792906fa9f"
      },
      "execution_count": 14,
      "outputs": [
        {
          "output_type": "stream",
          "name": "stdout",
          "text": [
            "0.3111111111111111\n"
          ]
        }
      ]
    },
    {
      "cell_type": "markdown",
      "source": [
        "function to test given features"
      ],
      "metadata": {
        "id": "_3fIVIUnHRro"
      }
    },
    {
      "cell_type": "code",
      "source": [
        "# k_number and method are integers\n",
        "# features are 2d np.array\n",
        "def predict_given_features(k_number,method,features):\n",
        "  clf = KNN(k_number)\n",
        "  clf.fit(X_train, y_train,method)\n",
        "  predictions = clf.predict(features)\n",
        "  predictions = np.array(predictions)\n",
        "  return predictions"
      ],
      "metadata": {
        "id": "7pusx0IQHV9x"
      },
      "execution_count": 15,
      "outputs": []
    },
    {
      "cell_type": "markdown",
      "source": [
        "in this section i give the knn a certain set of features that i know that this features belongs to a certain class and then test the algorithm"
      ],
      "metadata": {
        "id": "HTxxKEUqIfbr"
      }
    },
    {
      "cell_type": "code",
      "source": [
        "# k_number and method are integers\n",
        "# features are 2d np.array\n",
        "x_p = np.array([4.4,3.2,1.3,0.2],ndmin=2) # to test random features\n",
        "# euclidean_distance\n",
        "predict_features = predict_given_features(5,0,x_p)\n",
        "print(predict_features)\n",
        "# Manhattan\n",
        "predict_features = predict_given_features(5,1,x_p)\n",
        "print(predict_features)\n",
        "# cosine similarity\n",
        "predict_features = predict_given_features(5,2,x_p)\n",
        "print(predict_features)"
      ],
      "metadata": {
        "id": "wDkFLoibIldh",
        "colab": {
          "base_uri": "https://localhost:8080/"
        },
        "outputId": "ff43f300-b833-4707-b30d-14d1fbe0e942"
      },
      "execution_count": 16,
      "outputs": [
        {
          "output_type": "stream",
          "name": "stdout",
          "text": [
            "['Iris-setosa']\n",
            "['Iris-setosa']\n",
            "['Iris-setosa']\n"
          ]
        }
      ]
    }
  ]
}