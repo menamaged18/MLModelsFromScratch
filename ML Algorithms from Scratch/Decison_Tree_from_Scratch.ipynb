{
  "nbformat": 4,
  "nbformat_minor": 0,
  "metadata": {
    "colab": {
      "provenance": []
    },
    "kernelspec": {
      "name": "python3",
      "display_name": "Python 3"
    },
    "language_info": {
      "name": "python"
    }
  },
  "cells": [
    {
      "cell_type": "code",
      "execution_count": null,
      "metadata": {
        "id": "fGug77Dvf3Ua"
      },
      "outputs": [],
      "source": [
        "import pandas as pd\n",
        "import numpy as np\n"
      ]
    },
    {
      "cell_type": "code",
      "source": [
        "data = pd.read_csv(\"PlayTennis.csv\")\n",
        "\n",
        "print(data)"
      ],
      "metadata": {
        "colab": {
          "base_uri": "https://localhost:8080/"
        },
        "id": "ht-gFMq1gnZX",
        "outputId": "f714c9e1-d8fb-4083-cf78-4e9ff7a203fb"
      },
      "execution_count": null,
      "outputs": [
        {
          "output_type": "stream",
          "name": "stdout",
          "text": [
            "     Outlook Temperature Humidity    Wind Play Tennis\n",
            "0      Sunny         Hot     High    Weak          No\n",
            "1      Sunny         Hot     High  Strong          No\n",
            "2   Overcast         Hot     High    Weak         Yes\n",
            "3       Rain        Mild     High    Weak         Yes\n",
            "4       Rain        Cool   Normal    Weak         Yes\n",
            "5       Rain        Cool   Normal  Strong          No\n",
            "6   Overcast        Cool   Normal  Strong         Yes\n",
            "7      Sunny        Mild     High    Weak          No\n",
            "8      Sunny        Cool   Normal    Weak         Yes\n",
            "9       Rain        Mild   Normal    Weak         Yes\n",
            "10     Sunny        Mild   Normal  Strong         Yes\n",
            "11  Overcast        Mild     High  Strong         Yes\n",
            "12  Overcast         Hot   Normal    Weak         Yes\n",
            "13      Rain        Mild     High  Strong          No\n"
          ]
        }
      ]
    },
    {
      "cell_type": "code",
      "source": [
        "import pandas as pd\n",
        "import math\n",
        "from graphviz import Digraph\n",
        "\n",
        "class Node:\n",
        "    def __init__(self, attribute=None, value=None, result=None):\n",
        "        self.attribute = attribute\n",
        "        self.value = value\n",
        "        self.result = result        # Class label if the node is a leaf node\n",
        "        self.children = {}          # Dictionary to store child nodes\n",
        "\n",
        "def entropy(data):\n",
        "    # counts calculate how many times {yes,no} occures\n",
        "    counts = data['Play Tennis'].value_counts()\n",
        "    total_instances = len(data) # yeses + no's\n",
        "    entropy_value = 0\n",
        "    for count in counts:\n",
        "        prob = count / total_instances\n",
        "        entropy_value -= prob * math.log2(prob)\n",
        "    return entropy_value\n",
        "\n",
        "def average_entropy(data, attribute):\n",
        "    # for example attribute = outlook has three attributes {sunny , overcast , rain} so variable values will have this\n",
        "    values = data[attribute].unique()\n",
        "    total_instances = len(data)\n",
        "    average_entropy = 0\n",
        "    for value in values:\n",
        "        # data[attribute] = {sunny, overcast, rain}\n",
        "        # if the value == sunny it will return the sunny with no and yes\n",
        "        subcategory_of_feature = data[data[attribute] == value]\n",
        "        proportion_of_subcategory = len(subcategory_of_feature) / total_instances\n",
        "        entropy_val = entropy(subcategory_of_feature)\n",
        "        average_entropy += proportion_of_subcategory * entropy_val\n",
        "    return average_entropy\n",
        "\n",
        "def information_gain(data, attribute):\n",
        "    total_entropy = entropy(data)\n",
        "    avg_entropy = average_entropy(data, attribute)\n",
        "    return total_entropy - avg_entropy\n",
        "\n",
        "def build_tree(data, attributes):\n",
        "    # If all instances have the same class label\n",
        "    if len(data['Play Tennis'].unique()) == 1:\n",
        "        # selecting the first element as the leaf node all the elements are the same\n",
        "        return Node(result=data['Play Tennis'].iloc[0])\n",
        "\n",
        "    # If no attributes left to split on\n",
        "    if len(attributes) == 0:  #idxmax() returns the index of the majority class\n",
        "        return Node(result=data['Play Tennis'].value_counts().idxmax())\n",
        "\n",
        "    max_gain = -1\n",
        "    best_attribute = None\n",
        "    for attribute in attributes:\n",
        "        gain = information_gain(data, attribute)\n",
        "        if gain > max_gain:\n",
        "            max_gain = gain\n",
        "            best_attribute = attribute\n",
        "\n",
        "    root = Node(attribute=best_attribute)\n",
        "    values = data[best_attribute].unique()\n",
        "\n",
        "    for value in values:\n",
        "        subset = data[data[best_attribute] == value]\n",
        "        if len(subset) == 0:\n",
        "            root.children[value] = Node(result=data['Play Tennis'].value_counts().idxmax())\n",
        "        else:\n",
        "            # new attributes without the best attribute that we picked\n",
        "            new_attributes = [attr for attr in attributes if attr != best_attribute]\n",
        "            root.children[value] = build_tree(subset, new_attributes)\n",
        "    return root\n",
        "\n",
        "def predict(node, instance):\n",
        "    if node.result is not None:\n",
        "        return node.result\n",
        "    attribute = node.attribute\n",
        "    value = instance[attribute]\n",
        "    if value not in node.children:\n",
        "        return None\n",
        "    return predict(node.children[value], instance)\n",
        "\n",
        "\n",
        "def visualize_tree(node, dot=None):\n",
        "    if dot is None:\n",
        "        dot = Digraph()\n",
        "\n",
        "    if node.result is not None:\n",
        "        dot.node(str(id(node)), str(node.result))\n",
        "        return dot\n",
        "\n",
        "    dot.node(str(id(node)), str(node.attribute))\n",
        "\n",
        "    for value, child_node in node.children.items():\n",
        "        dot = visualize_tree(child_node, dot)\n",
        "        dot.edge(str(id(node)), str(id(child_node)), label=str(value))\n",
        "\n",
        "    return dot\n",
        "\n",
        "\n",
        "def print_tree(node, depth=0):\n",
        "    if node.result is not None:\n",
        "        print('  ' * depth, 'Result:', node.result)\n",
        "    else:\n",
        "        print('  ' * depth, 'Attribute:', node.attribute)\n",
        "        for value, child_node in node.children.items():\n",
        "            print('  ' * (depth + 1), 'Value:', value)\n",
        "            print_tree(child_node, depth + 2)\n",
        "\n",
        "print(\"Decision Tree:\")\n",
        "print_tree(root_node)\n",
        "\n",
        "# Example usage:\n",
        "data = pd.read_csv(\"PlayTennis.csv\")\n",
        "attributes = data.columns[:-1].tolist()\n",
        "root_node = build_tree(data, attributes)\n",
        "\n",
        "dot = visualize_tree(root_node)\n",
        "dot.render(\"decision_tree\", format=\"png\", cleanup=True)\n"
      ],
      "metadata": {
        "id": "ba7S1TNigrY2",
        "colab": {
          "base_uri": "https://localhost:8080/",
          "height": 313
        },
        "outputId": "517a18d5-4bf0-4778-b222-ba7ddb925c5e"
      },
      "execution_count": null,
      "outputs": [
        {
          "output_type": "stream",
          "name": "stdout",
          "text": [
            "Decision Tree:\n",
            " Attribute: Outlook\n",
            "   Value: Sunny\n",
            "     Attribute: Humidity\n",
            "       Value: High\n",
            "         Result: No\n",
            "       Value: Normal\n",
            "         Result: Yes\n",
            "   Value: Overcast\n",
            "     Result: Yes\n",
            "   Value: Rain\n",
            "     Attribute: Wind\n",
            "       Value: Weak\n",
            "         Result: Yes\n",
            "       Value: Strong\n",
            "         Result: No\n"
          ]
        },
        {
          "output_type": "execute_result",
          "data": {
            "text/plain": [
              "'decision_tree.png'"
            ],
            "application/vnd.google.colaboratory.intrinsic+json": {
              "type": "string"
            }
          },
          "metadata": {},
          "execution_count": 11
        }
      ]
    }
  ]
}