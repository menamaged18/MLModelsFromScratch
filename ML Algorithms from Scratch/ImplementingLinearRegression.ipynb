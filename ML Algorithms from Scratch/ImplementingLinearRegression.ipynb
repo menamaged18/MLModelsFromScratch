{
  "nbformat": 4,
  "nbformat_minor": 0,
  "metadata": {
    "colab": {
      "provenance": []
    },
    "kernelspec": {
      "name": "python3",
      "display_name": "Python 3"
    },
    "language_info": {
      "name": "python"
    }
  },
  "cells": [
    {
      "cell_type": "code",
      "execution_count": null,
      "metadata": {
        "id": "q-Xus4gYBk39"
      },
      "outputs": [],
      "source": [
        "import numpy as np\n",
        "import pandas as pd\n",
        "from sklearn import metrics\n",
        "from sklearn.datasets import load_diabetes\n",
        "from sklearn.utils import shuffle\n",
        "from sklearn.metrics import accuracy_score\n",
        "from sklearn.model_selection import train_test_split\n",
        "from sklearn import preprocessing\n",
        "from sklearn.preprocessing import StandardScaler\n",
        "from sklearn.linear_model import LinearRegression, Lasso, Ridge\n",
        "from sklearn import linear_model"
      ]
    },
    {
      "cell_type": "markdown",
      "source": [
        "compute y = wx+b"
      ],
      "metadata": {
        "id": "TaWlVz22B6pQ"
      }
    },
    {
      "cell_type": "code",
      "source": [
        "def Compute_Y(x, w, b):\n",
        "    Y_hat = np.dot(x, w) + b\n",
        "    return Y_hat"
      ],
      "metadata": {
        "id": "FuWXlGdaB1IM"
      },
      "execution_count": null,
      "outputs": []
    },
    {
      "cell_type": "markdown",
      "source": [
        "implementing cost fuction\n",
        "squared error function sum(y - y_hat )**2"
      ],
      "metadata": {
        "id": "X-jqXoUYCXV9"
      }
    },
    {
      "cell_type": "code",
      "source": [
        "def cost_function(y,y_hat,m):\n",
        "  cost = np.sum((y - y_hat)**2)\n",
        "  return cost/(2 * m)"
      ],
      "metadata": {
        "id": "edf_T3LBCV-Z"
      },
      "execution_count": null,
      "outputs": []
    },
    {
      "cell_type": "markdown",
      "source": [
        "implementing gradient desent for Linear regression"
      ],
      "metadata": {
        "id": "XXzjAl8EC218"
      }
    },
    {
      "cell_type": "code",
      "source": [
        "def GD_Linear_Regression(X,W,B,Y,alpha,iter_number):\n",
        "  num_samples, num_features = X.shape\n",
        "  for iter in range(iter_number):\n",
        "    y_hat = Compute_Y(X,W,B)\n",
        "    dw = (1/num_samples) * np.dot(X.T,(y_hat - Y))\n",
        "    db = (1/num_samples) * np.sum(y_hat - Y)\n",
        "    W -= alpha * dw\n",
        "    B = B - alpha * db\n",
        "  return W,B"
      ],
      "metadata": {
        "id": "SuuHZdq-C2TA"
      },
      "execution_count": null,
      "outputs": []
    },
    {
      "cell_type": "code",
      "source": [
        "X_train = np.array([[2104, 5, 1, 45], [1416, 3, 2, 40], [852, 2, 1, 35]])\n",
        "y_train = np.array([460, 232, 178])\n",
        "b_init = 785.1811367994083\n",
        "w_init = np.array([ 0.39133535, 18.75376741, -53.36032453, -26.42131618])\n",
        "alpha = 5.0e-7\n",
        "iter_number = 1000\n",
        "m = X_train.shape[0]\n",
        "# Compute and display cost using our pre-chosen optimal parameters.\n",
        "y_hat = Compute_Y(X_train, w_init, b_init)\n",
        "print(f'Cost at optimal w : {y_hat}')\n",
        "cost = cost_function(y_train, y_hat,m)\n",
        "print(f'Cost: {cost}')\n",
        "w,b = GD_Linear_Regression(X_train,w_init,b_init,y_train,alpha,iter_number)\n",
        "print(w)\n",
        "print(b)\n",
        "y_hat = Compute_Y(X_train, w, b)\n",
        "print(f'Cost at optimal w : {y_hat}')\n",
        "cost = cost_function(y_train, y_hat,m)\n",
        "print(f'Cost at optimal w : {cost}')"
      ],
      "metadata": {
        "colab": {
          "base_uri": "https://localhost:8080/"
        },
        "id": "AxFjEe_TEQlw",
        "outputId": "857faf6a-f49b-47a3-ae47-a953ff6114d1"
      },
      "execution_count": null,
      "outputs": [
        {
          "output_type": "stream",
          "name": "stdout",
          "text": [
            "Cost at optimal w : [459.99999762 231.99999837 177.99999899]\n",
            "Cost: 1.5578904045996674e-12\n",
            "[  0.39133535  18.75376741 -53.36032453 -26.42131618]\n",
            "785.1811367994089\n",
            "Cost at optimal w : [460.00000002 231.99999999 177.99999996]\n",
            "Cost at optimal w : 3.1165217960964095e-16\n"
          ]
        }
      ]
    },
    {
      "cell_type": "markdown",
      "source": [
        "# Better Implementation"
      ],
      "metadata": {
        "id": "uKjsCM3qRGcC"
      }
    },
    {
      "cell_type": "code",
      "source": [
        "# Linear Regression class\n",
        "class LinearRegressionGD:\n",
        "    def __init__(self, learning_rate=0.01, n_iterations=1000):\n",
        "        self.learning_rate = learning_rate\n",
        "        self.n_iterations = n_iterations\n",
        "        self.weights = None\n",
        "        self.bias = None\n",
        "\n",
        "    def fit(self, X, y):\n",
        "        n_samples, n_features = X.shape\n",
        "        self.weights = np.zeros(n_features)\n",
        "        self.bias = 0\n",
        "\n",
        "        for _ in range(self.n_iterations):\n",
        "            y_pred = np.dot(X, self.weights) + self.bias\n",
        "            dw = (1 / n_samples) * np.dot(X.T, (y_pred - y))\n",
        "            db = (1 / n_samples) * np.sum(y_pred - y)\n",
        "\n",
        "            self.weights -= self.learning_rate * dw\n",
        "            self.bias -= self.learning_rate * db\n",
        "\n",
        "    def predict(self, X):\n",
        "        return np.dot(X, self.weights) + self.bias\n",
        "\n",
        "    def cost_function(self,X_test,y,m):\n",
        "        y_hat = self.predict(X_test)\n",
        "        cost = np.sum((y - y_hat)**2)\n",
        "        return cost/(2 * m)\n",
        "\n",
        "    def r2_score(self,y_true, y_pred):\n",
        "      y_true = np.array(y_true)\n",
        "      y_pred = np.array(y_pred)\n",
        "\n",
        "      mean_y_true = np.mean(y_true)\n",
        "      ss_total = np.sum((y_true - mean_y_true)**2)\n",
        "      ss_residual = np.sum((y_true - y_pred)**2)\n",
        "      r2 = 1 - (ss_residual / ss_total)\n",
        "      return r2\n"
      ],
      "metadata": {
        "id": "0qty55_8ERLs"
      },
      "execution_count": null,
      "outputs": []
    },
    {
      "cell_type": "markdown",
      "source": [
        "Testing on load_diabetes"
      ],
      "metadata": {
        "id": "6IQPoqGfg5O7"
      }
    },
    {
      "cell_type": "code",
      "source": [
        "loadDiabetes = load_diabetes()\n",
        "X = loadDiabetes.data\n",
        "y = loadDiabetes.target\n",
        "X_train, X_test, y_train, y_test = train_test_split(X, y, test_size=0.2, random_state=42)\n",
        "model = LinearRegressionGD(learning_rate=0.1,n_iterations=10000)\n",
        "model.fit(X_train, y_train)\n",
        "mseCost = model.cost_function(X_test, y_test,X.shape[0])\n",
        "print(f\"Cost: {mseCost}\")\n",
        "r2 = model.r2_score(y_test, model.predict(X_test))\n",
        "print(f\"R2_Score: {r2}\")\n",
        "# \"\"\"\n",
        "# In the context of sklearn.linear_model.LinearRegression, the score method computes the 𝑅^2\n",
        "# (R-squared) metric. R-squared is a statistical measure that represents the proportion of\n",
        "# the variance in the dependent variable that is predictable from the independent variables.\n",
        "# It is also known as the coefficient of determination.\n",
        "# \"\"\"\n",
        "print(\"SKLEARN MODEL\")\n",
        "reg = LinearRegression().fit(X_train, y_train)\n",
        "reg.score(X_test, y_test)\n"
      ],
      "metadata": {
        "colab": {
          "base_uri": "https://localhost:8080/"
        },
        "id": "zd8lzX77hGJL",
        "outputId": "5ee6c412-01f8-437c-a98f-1ad8bdce2e2b"
      },
      "execution_count": null,
      "outputs": [
        {
          "output_type": "stream",
          "name": "stdout",
          "text": [
            "Cost: 288.6337173101799\n",
            "R2_Score: 0.45889078751809853\n",
            "SKLEARN MODEL\n"
          ]
        },
        {
          "output_type": "execute_result",
          "data": {
            "text/plain": [
              "0.4526027629719195"
            ]
          },
          "metadata": {},
          "execution_count": 18
        }
      ]
    },
    {
      "cell_type": "markdown",
      "source": [
        "# Normal Equation for Linear Regression\n",
        "W = (X.T * X)^-1 * (X.T * Y)"
      ],
      "metadata": {
        "id": "4hRoTN8Rzxn_"
      }
    },
    {
      "cell_type": "markdown",
      "source": [
        "AKA Minimum Sum Squared Error (MSSE) Technique"
      ],
      "metadata": {
        "id": "gLGy19sPLmTo"
      }
    },
    {
      "cell_type": "code",
      "source": [
        "def normal_equation(X, y):\n",
        "    # Add a column of ones to X to account for the intercept term\n",
        "    X_b = np.c_[np.ones((X.shape[0], 1)), X]\n",
        "    # Compute the normal equation using the pseudo-inverse\n",
        "    w = np.linalg.pinv(X_b.T.dot(X_b)).dot(X_b.T).dot(y)\n",
        "    return w\n",
        "\n",
        "def predict_NEQ(X,w):\n",
        "  # Reshape X to be a 2D array if it's 1D\n",
        "  if X.ndim == 1:\n",
        "      X = X.reshape(1, -1)  # Reshape to a single row\n",
        "  X_b = np.c_[np.ones((X.shape[0], 1)), X]\n",
        "  return np.dot(X_b,w)"
      ],
      "metadata": {
        "id": "gsA2Zcqoz20S"
      },
      "execution_count": null,
      "outputs": []
    },
    {
      "cell_type": "code",
      "source": [
        "X = np.array([[1, 1], [2, 2], [2, 1], [1, 2]])\n",
        "y = np.array( [ 10, 15, 13, 12 ] )\n",
        "b = 0\n",
        "w = normal_equation(X,y)\n",
        "print(w)\n",
        "# add one to make the predict\n",
        "x1 = np.hstack(([1], X[1]))\n",
        "y_hat = Compute_Y(x1, w, b)\n",
        "print(f'predict Y_hat example#1: {y_hat}')\n",
        "\n",
        "print(\"prediction\", predict_NEQ( X[1], w ))\n",
        "\n",
        "# predicting another vector\n",
        "x2 = np.hstack(([1], [7,3]))\n",
        "y_hat = Compute_Y(x2, w, b)\n",
        "print(f'predict Y_hat example#2: {y_hat}')"
      ],
      "metadata": {
        "colab": {
          "base_uri": "https://localhost:8080/"
        },
        "id": "kqXDolfD2OIY",
        "outputId": "c6ae3db5-92fa-4743-e764-74d22adafafe"
      },
      "execution_count": null,
      "outputs": [
        {
          "output_type": "stream",
          "name": "stdout",
          "text": [
            "[5. 3. 2.]\n",
            "predict Y_hat example#1: 15.000000000000039\n",
            "prediction [15.]\n",
            "predict Y_hat example#2: 32.00000000000004\n"
          ]
        }
      ]
    },
    {
      "cell_type": "markdown",
      "source": [
        "Testing MSSE"
      ],
      "metadata": {
        "id": "-xx7H4xn0hWr"
      }
    },
    {
      "cell_type": "code",
      "source": [
        "loadDiabetes2 = load_diabetes()\n",
        "X2 = loadDiabetes2.data\n",
        "y2 = loadDiabetes2.target\n",
        "X_train2, X_test2, y_train2, y_test2 = train_test_split(X2, y2, test_size=0.2, random_state=42)\n",
        "MSSE_W = normal_equation(X_train2, y_train2)\n",
        "y_hat2 = predict_NEQ(X_test2, MSSE_W)\n",
        "\n",
        "def r2_score(y_true, y_pred):\n",
        "  y_true = np.array(y_true)\n",
        "  y_pred = np.array(y_pred)\n",
        "\n",
        "  mean_y_true = np.mean(y_true)\n",
        "  ss_total = np.sum((y_true - mean_y_true)**2)\n",
        "  ss_residual = np.sum((y_true - y_pred)**2)\n",
        "  r2 = 1 - (ss_residual / ss_total)\n",
        "  return r2\n",
        "\n",
        "r22 = r2_score(y_test2, y_hat2)\n",
        "print(f\"R2_Score: {r22}\")"
      ],
      "metadata": {
        "colab": {
          "base_uri": "https://localhost:8080/"
        },
        "id": "GWBY8Uao0g9h",
        "outputId": "de1945ff-6e9f-4488-d04e-f4f669f8c5cc"
      },
      "execution_count": null,
      "outputs": [
        {
          "output_type": "stream",
          "name": "stdout",
          "text": [
            "R2_Score: 0.45260276297192037\n"
          ]
        }
      ]
    },
    {
      "cell_type": "code",
      "source": [
        "def predict_NEQ_for_classification(x,w,b):\n",
        "  y_hat = Compute_Y(x2, w, b)\n",
        "  if y_hat > 0:\n",
        "    return 1\n",
        "  else:\n",
        "    return -1"
      ],
      "metadata": {
        "id": "SW4k_JHaQthV"
      },
      "execution_count": null,
      "outputs": []
    },
    {
      "cell_type": "code",
      "source": [
        "X = np.array([[1, 1], [2, 2], [2, 1], [1, 2]])\n",
        "y = np.array( [ 1, -1, 1, -1 ] )\n",
        "b = 0\n",
        "w = normal_equation(X,y)\n",
        "print(w)\n",
        "x1 = np.hstack(([1], X[1]))\n",
        "y_hat = predict_NEQ_for_classification(x1, w, b)\n",
        "print(f'predict Y_hat example#1: {y_hat}')\n",
        "\n",
        "# predicting another vector\n",
        "x2 = np.hstack(([1], [7,3]))\n",
        "y_hat = predict_NEQ_for_classification(x2, w, b)\n",
        "print(f'predict Y_hat example#2: {y_hat}')\n",
        "\n",
        "# cost = cost_function(y, y_hat)\n",
        "# print(f'Cost at optimal w : {cost}')"
      ],
      "metadata": {
        "colab": {
          "base_uri": "https://localhost:8080/"
        },
        "id": "-I1xO8ndQfo0",
        "outputId": "939d63c3-6998-4f97-f714-e161e599e294"
      },
      "execution_count": null,
      "outputs": [
        {
          "output_type": "stream",
          "name": "stdout",
          "text": [
            "[ 3.00000000e+00 -1.60982339e-15 -2.00000000e+00]\n",
            "predict Y_hat example#1: -1\n",
            "predict Y_hat example#2: -1\n"
          ]
        }
      ]
    },
    {
      "cell_type": "markdown",
      "source": [
        "# Linear Regression with Regularization term\n",
        "\n",
        "\n",
        "*   Regularization is just making the weights of certain feature small.\n",
        "*   Like if we have: W_1 X_1 + W_2 X_2 + W_3 X_3 + W_4 X_4 + b Regularization will make W_3 and W_4 small values so that the features will have a small effect to the model. For example, 10 X_1 + 5 X_2 + .0001 X_3 + .00005 X_4 + 100\n",
        "*   So, the question now why we just remove these features instead of making the effect small? Because sometimes we don’t know what features we want to remove and sometimes it may influence predictions.\n",
        "\n",
        "\n",
        "\n",
        "\n",
        "\n",
        "\n"
      ],
      "metadata": {
        "id": "gzUuCF1077Ee"
      }
    },
    {
      "cell_type": "markdown",
      "source": [
        "cost function for regularization\n",
        "\n",
        "Notea:\n",
        "\n",
        "*   L1 regularization also known as Lasso Regularization.\n",
        "*   L2 regularization also known as Ridge Regularization. #what i implemented\n",
        "\n",
        "\n",
        "\n"
      ],
      "metadata": {
        "id": "vsOst_yZL-qE"
      }
    },
    {
      "cell_type": "code",
      "source": [
        "def Reg_cost_function(y,y_hat,weights,lamda,m):\n",
        "  cost = np.sum((y - y_hat)**2)/(2 * m)  +  (lamda/(2*m)) * np.sum(weights**2)\n",
        "  return cost"
      ],
      "metadata": {
        "id": "3mBs8otdMBFC"
      },
      "execution_count": null,
      "outputs": []
    },
    {
      "cell_type": "markdown",
      "source": [
        "testing regularization cost function"
      ],
      "metadata": {
        "id": "BKQPxJpnNoX5"
      }
    },
    {
      "cell_type": "code",
      "source": [
        "np.random.seed(1)\n",
        "X_tmp = np.random.rand(5,6)\n",
        "y_tmp = np.array([0,1,0,1,0])\n",
        "w_tmp = np.random.rand(X_tmp.shape[1]).reshape(-1,)-0.5\n",
        "b_tmp = 0.5\n",
        "lambda_tmp = 0.7\n",
        "yhat = Compute_Y(X_tmp,w_tmp,b_tmp)\n",
        "m = X_tmp.shape[0]\n",
        "cost_tmp = Reg_cost_function(y_tmp, yhat, w_tmp, lambda_tmp,m)\n",
        "\n",
        "print(\"Regularized cost:\", cost_tmp)"
      ],
      "metadata": {
        "colab": {
          "base_uri": "https://localhost:8080/"
        },
        "id": "sj4HoKuxNscS",
        "outputId": "fde4cf74-f912-4acd-f7d4-0e9f0613196a"
      },
      "execution_count": null,
      "outputs": [
        {
          "output_type": "stream",
          "name": "stdout",
          "text": [
            "Regularized cost: 0.07917239320214275\n"
          ]
        }
      ]
    },
    {
      "cell_type": "code",
      "source": [
        "# Linear Regression class\n",
        "class LinearRegressionGDREG:\n",
        "    def __init__(self, learning_rate=0.01, n_iterations=1000, lamda=2):\n",
        "        self.learning_rate = learning_rate\n",
        "        self.n_iterations = n_iterations\n",
        "        self.lamda = lamda\n",
        "        self.weights = None\n",
        "        self.bias = None\n",
        "\n",
        "    def fit(self, X, y):\n",
        "        n_samples, n_features = X.shape\n",
        "        self.weights = np.zeros(n_features)\n",
        "        self.bias = 0\n",
        "\n",
        "        for _ in range(self.n_iterations):\n",
        "            y_pred = np.dot(X, self.weights) + self.bias\n",
        "            regularization_term = (self.lamda/n_samples) * self.weights\n",
        "            dw = (1 / n_samples) * np.dot(X.T, (y_pred - y)) + regularization_term\n",
        "            db = (1 / n_samples) * np.sum(y_pred - y)\n",
        "\n",
        "            self.weights -= self.learning_rate * dw\n",
        "            self.bias -= self.learning_rate * db\n",
        "\n",
        "    def predict(self, X):\n",
        "        return np.dot(X, self.weights) + self.bias\n",
        "\n",
        "    def r2_score(self,y_true, y_pred):\n",
        "      y_true = np.array(y_true)\n",
        "      y_pred = np.array(y_pred)\n",
        "\n",
        "      mean_y_true = np.mean(y_true)\n",
        "      ss_total = np.sum((y_true - mean_y_true)**2)\n",
        "      ss_residual = np.sum((y_true - y_pred)**2)\n",
        "      r2 = 1 - (ss_residual / ss_total)\n",
        "      return r2"
      ],
      "metadata": {
        "id": "rzLRxgbe76hf"
      },
      "execution_count": null,
      "outputs": []
    },
    {
      "cell_type": "markdown",
      "source": [
        "Testing"
      ],
      "metadata": {
        "id": "DF4X660zdo-B"
      }
    },
    {
      "cell_type": "code",
      "source": [
        "loadDiabetes3 = load_diabetes()\n",
        "X3 = loadDiabetes3.data\n",
        "y3 = loadDiabetes3.target\n",
        "X_train3, X_test3, y_train3, y_test3 = train_test_split(X3, y3, test_size=0.2, random_state=42)\n",
        "model3 = LinearRegressionGDREG(learning_rate=0.3,n_iterations=1000,lamda=.05)\n",
        "model3.fit(X_train3, y_train3)\n",
        "\n",
        "r2_3 = model3.r2_score(y_test3, model3.predict(X_test3))\n",
        "print(f\"R2_Score: {r2_3}\")\n",
        "\n",
        "print(\"SKLEARN MODEL\")\n",
        "lasso_reg = linear_model.Lasso(alpha=0.3, max_iter=100, tol=50.5)\n",
        "lasso_reg.fit(X_train3, y_train3)\n",
        "lasso_reg.score(X_test3, y_test3)\n",
        "\n",
        "# regularization supposed to make the score higher but in this example it makes the score smaller"
      ],
      "metadata": {
        "colab": {
          "base_uri": "https://localhost:8080/"
        },
        "id": "cgSxUk2idsMT",
        "outputId": "cb927e68-d954-4168-e46e-1e40dba1f08e"
      },
      "execution_count": null,
      "outputs": [
        {
          "output_type": "stream",
          "name": "stdout",
          "text": [
            "R2_Score: 0.4395945598527602\n",
            "SKLEARN MODEL\n"
          ]
        },
        {
          "output_type": "execute_result",
          "data": {
            "text/plain": [
              "0.3409005251541136"
            ]
          },
          "metadata": {},
          "execution_count": 66
        }
      ]
    },
    {
      "cell_type": "markdown",
      "source": [
        "tries to improve the score of the data set using sklearn"
      ],
      "metadata": {
        "id": "2TvY1DO-nYfH"
      }
    },
    {
      "cell_type": "code",
      "source": [
        "DiabetesDataXY = load_diabetes()\n",
        "X_data = DiabetesDataXY.data\n",
        "y_target = DiabetesDataXY.target\n",
        "x_train, x_test, y_train, y_test = train_test_split(X_data, y_target, test_size=0.2, random_state=42)\n",
        "print(\"SKLEARN MODEL1\")\n",
        "reg = LinearRegression().fit(x_train, y_train)\n",
        "print(reg.score(x_test, y_test))\n",
        "\n",
        "print(\"SKLEARN MODEL2 use Laso regularization\")\n",
        "lasso_reg = linear_model.Lasso(alpha=0.3, max_iter=100, tol=50.5) # makes change to the worst\n",
        "lasso_reg.fit(x_train, y_train)\n",
        "print(lasso_reg.score(x_test, y_test))\n"
      ],
      "metadata": {
        "colab": {
          "base_uri": "https://localhost:8080/"
        },
        "id": "E7OJY4fVnfZs",
        "outputId": "fefe1e28-de48-489d-9e32-0efb7c0a80f5"
      },
      "execution_count": null,
      "outputs": [
        {
          "output_type": "stream",
          "name": "stdout",
          "text": [
            "SKLEARN MODEL1\n",
            "0.4526027629719195\n",
            "SKLEARN MODEL2 use Laso regularization\n",
            "0.3409005251541136\n",
            "SKLEARN MODEL2 use Ridge regularization\n",
            "0.45862017068975747\n"
          ]
        }
      ]
    },
    {
      "cell_type": "code",
      "source": [
        "print(\"SKLEARN MODEL2 use Ridge regularization\")\n",
        "Ridge_reg = linear_model.Ridge(alpha=0.3, max_iter=100, tol=1000000) # does not make any change\n",
        "Ridge_reg.fit(x_train, y_train)\n",
        "print(Ridge_reg.score(x_test, y_test))"
      ],
      "metadata": {
        "colab": {
          "base_uri": "https://localhost:8080/"
        },
        "id": "QM5cWMktpjnL",
        "outputId": "4f275e72-3e9f-4405-ab63-5833c3a16b19"
      },
      "execution_count": null,
      "outputs": [
        {
          "output_type": "stream",
          "name": "stdout",
          "text": [
            "SKLEARN MODEL2 use Ridge regularization\n",
            "0.45862017068975747\n"
          ]
        }
      ]
    },
    {
      "cell_type": "markdown",
      "source": [
        "idea\"1\" is to shuffle the data"
      ],
      "metadata": {
        "id": "5tj9Lt86qDCm"
      }
    },
    {
      "cell_type": "code",
      "source": [
        "DiabetesDataXY = load_diabetes()\n",
        "X_data = DiabetesDataXY.data\n",
        "y_target = DiabetesDataXY.target\n",
        "\n",
        "# Stack the data and target together\n",
        "data = np.column_stack((X_data, y_target))\n",
        "\n",
        "# Shuffle the combined data\n",
        "shuffled_data = shuffle(data,random_state=42)\n",
        "# Separate the shuffled data and target\n",
        "X_shuffled = shuffled_data[:, :-1]  # All columns except the last one (data)\n",
        "y_shuffled = shuffled_data[:, -1]   # targets\n",
        "\n",
        "x_train, x_test, y_train, y_test = train_test_split(X_shuffled, y_shuffled, test_size=0.2, random_state=42)\n",
        "print(\"SKLEARN MODEL1\")\n",
        "reg = LinearRegression().fit(x_train, y_train)\n",
        "print(reg.score(x_test, y_test))\n",
        "\n",
        "print(\"SKLEARN MODEL2 use Laso regularization\")\n",
        "lasso_reg = linear_model.Lasso(alpha=0.3, max_iter=100, tol=5) # makes change to the worst\n",
        "lasso_reg.fit(x_train, y_train)\n",
        "print(lasso_reg.score(x_test, y_test))\n",
        "\n",
        "print(\"SKLEARN MODEL3 use Ridge regularization\")\n",
        "Ridge_reg = linear_model.Ridge(alpha=0.3, max_iter=100, tol=100) # as tol changes it does not make any change\n",
        "Ridge_reg.fit(x_train, y_train)\n",
        "print(Ridge_reg.score(x_test, y_test))"
      ],
      "metadata": {
        "colab": {
          "base_uri": "https://localhost:8080/"
        },
        "id": "HZ-fhEEJqHxh",
        "outputId": "926313a4-ab8f-4b00-8afe-268a4677507d"
      },
      "execution_count": null,
      "outputs": [
        {
          "output_type": "stream",
          "name": "stdout",
          "text": [
            "SKLEARN MODEL1\n",
            "0.37994209442109383\n",
            "SKLEARN MODEL2 use Laso regularization\n",
            "0.28330192402072407\n",
            "SKLEARN MODEL3 use Ridge regularization\n",
            "0.4021758190931376\n"
          ]
        }
      ]
    },
    {
      "cell_type": "markdown",
      "source": [
        "idea\"2\" change the test and train size"
      ],
      "metadata": {
        "id": "jHIhl6-hscCq"
      }
    },
    {
      "cell_type": "code",
      "source": [
        "DiabetesDataXY = load_diabetes()\n",
        "X_data = DiabetesDataXY.data\n",
        "y_target = DiabetesDataXY.target\n",
        "\n",
        "# Stack the data and target together\n",
        "data = np.column_stack((X_data, y_target))\n",
        "\n",
        "# Shuffle the combined data\n",
        "shuffled_data = shuffle(data,random_state=42)\n",
        "# Separate the shuffled data and target\n",
        "X_shuffled = shuffled_data[:, :-1]  # All columns except the last one (data)\n",
        "y_shuffled = shuffled_data[:, -1]   # targets\n",
        "\n",
        "x_train, x_test, y_train, y_test = train_test_split(X_shuffled, y_shuffled, test_size=0.3, random_state=42) # it makes a small change\n",
        "print(\"SKLEARN MODEL1\")\n",
        "reg = LinearRegression().fit(x_train, y_train)\n",
        "print(reg.score(x_test, y_test))\n",
        "\n",
        "print(\"SKLEARN MODEL2 use Laso regularization\")\n",
        "lasso_reg = linear_model.Lasso(alpha=0.3, max_iter=100, tol=50) # makes change to the worst\n",
        "lasso_reg.fit(x_train, y_train)\n",
        "print(lasso_reg.score(x_test, y_test))\n",
        "\n",
        "print(\"SKLEARN MODEL3 use Ridge regularization\")\n",
        "Ridge_reg = linear_model.Ridge(alpha=0.3, max_iter=100, tol=9000) # as tol changes it does not make any change\n",
        "Ridge_reg.fit(x_train, y_train)\n",
        "print(Ridge_reg.score(x_test, y_test))"
      ],
      "metadata": {
        "colab": {
          "base_uri": "https://localhost:8080/"
        },
        "id": "tswYtL18skHj",
        "outputId": "a804d15d-aee1-4b0a-9089-60ad8f7e03d4"
      },
      "execution_count": null,
      "outputs": [
        {
          "output_type": "stream",
          "name": "stdout",
          "text": [
            "SKLEARN MODEL1\n",
            "0.46404860521373537\n",
            "SKLEARN MODEL2 use Laso regularization\n",
            "0.3932511408415934\n",
            "SKLEARN MODEL3 use Ridge regularization\n",
            "0.4706852737966427\n"
          ]
        }
      ]
    },
    {
      "cell_type": "markdown",
      "source": [
        "normalizing the data"
      ],
      "metadata": {
        "id": "zILUWe-2AsnI"
      }
    },
    {
      "cell_type": "code",
      "source": [
        "DiabetesDataXY = load_diabetes()\n",
        "X_data = DiabetesDataXY.data\n",
        "y_target = DiabetesDataXY.target\n",
        "\n",
        "# Stack the data and target together\n",
        "data = np.column_stack((X_data, y_target))\n",
        "\n",
        "# Shuffle the combined data\n",
        "shuffled_data = shuffle(data,random_state=42)\n",
        "# Separate the shuffled data and target\n",
        "X_shuffled = shuffled_data[:, :-1]  # All columns except the last one (data)\n",
        "y_shuffled = shuffled_data[:, -1]   # targets\n",
        "\n",
        "normalized_Xshuffled_data = preprocessing.normalize(X_shuffled)\n",
        "\n",
        "x_train, x_test, y_train, y_test = train_test_split(normalized_Xshuffled_data, y_shuffled, test_size=0.3, random_state=42) # it makes a small change\n",
        "print(\"SKLEARN MODEL1\")\n",
        "reg = LinearRegression().fit(x_train, y_train)\n",
        "print(reg.score(x_test, y_test))\n",
        "\n",
        "print(\"SKLEARN MODEL2 use Laso regularization\")\n",
        "lasso_reg = linear_model.Lasso(alpha=0.3, max_iter=100, tol=50) # makes change to the worst\n",
        "lasso_reg.fit(x_train, y_train)\n",
        "print(lasso_reg.score(x_test, y_test))\n",
        "\n",
        "print(\"SKLEARN MODEL3 use Ridge regularization\")\n",
        "Ridge_reg = linear_model.Ridge(alpha=0.3, max_iter=100, tol=9000) # as tol changes it does not make any change\n",
        "Ridge_reg.fit(x_train, y_train)\n",
        "print(Ridge_reg.score(x_test, y_test))"
      ],
      "metadata": {
        "colab": {
          "base_uri": "https://localhost:8080/"
        },
        "id": "hcBwCKRVAvNJ",
        "outputId": "a5fda326-bbcb-441f-f7bf-2764cfae7db4"
      },
      "execution_count": null,
      "outputs": [
        {
          "output_type": "stream",
          "name": "stdout",
          "text": [
            "SKLEARN MODEL1\n",
            "0.45712430057094333\n",
            "SKLEARN MODEL2 use Laso regularization\n",
            "0.34311945868290894\n",
            "SKLEARN MODEL3 use Ridge regularization\n",
            "0.4588994407005793\n"
          ]
        }
      ]
    },
    {
      "cell_type": "markdown",
      "source": [
        "plotting to see the results"
      ],
      "metadata": {
        "id": "epOqylbwHqNn"
      }
    },
    {
      "cell_type": "code",
      "source": [
        "import matplotlib.pyplot as plt\n",
        "\n",
        "DiabetesDataXY = load_diabetes()\n",
        "X_data = DiabetesDataXY.data\n",
        "y_target = DiabetesDataXY.target\n",
        "\n",
        "data = np.column_stack((X_data, y_target))\n",
        "\n",
        "shuffled_data = shuffle(data, random_state=42)\n",
        "\n",
        "X_shuffled = shuffled_data[:, :-1]  # All columns except the last one (data)\n",
        "y_shuffled = shuffled_data[:, -1]   # targets\n",
        "\n",
        "# Standardize the feature data\n",
        "scaler = StandardScaler()\n",
        "X_shuffled = scaler.fit_transform(X_shuffled)\n",
        "\n",
        "# Split the data into training and testing sets\n",
        "x_train, x_test, y_train, y_test = train_test_split(X_shuffled, y_shuffled, test_size=0.1, random_state=42)\n",
        "\n",
        "# Linear Regression Model\n",
        "reg = LinearRegression().fit(x_train, y_train)\n",
        "reg_score = reg.score(x_test, y_test)\n",
        "reg_pred = reg.predict(x_test)\n",
        "\n",
        "# Lasso Regression Model\n",
        "lasso_reg = Lasso(alpha=0.01, max_iter=1000, tol=100)\n",
        "lasso_reg.fit(x_train, y_train)\n",
        "lasso_score = lasso_reg.score(x_test, y_test)\n",
        "lasso_pred = lasso_reg.predict(x_test)\n",
        "\n",
        "# Ridge Regression Model\n",
        "ridge_reg = Ridge(alpha=1.0, max_iter=1000, tol=6)\n",
        "ridge_reg.fit(x_train, y_train)\n",
        "ridge_score = ridge_reg.score(x_test, y_test)\n",
        "ridge_pred = ridge_reg.predict(x_test)\n",
        "\n",
        "# Plotting\n",
        "plt.figure(figsize=(18, 6))\n",
        "\n",
        "# Linear Regression Plot\n",
        "plt.subplot(1, 3, 1)\n",
        "plt.scatter(y_test, reg_pred, color='blue')\n",
        "plt.plot([y_test.min(), y_test.max()], [y_test.min(), y_test.max()], 'k--', lw=4)\n",
        "plt.xlabel('Actual')\n",
        "plt.ylabel('Predicted')\n",
        "plt.title(f'Linear Regression\\nScore: {reg_score:.2f}')\n",
        "\n",
        "# Lasso Regression Plot\n",
        "plt.subplot(1, 3, 2)\n",
        "plt.scatter(y_test, lasso_pred, color='red')\n",
        "plt.plot([y_test.min(), y_test.max()], [y_test.min(), y_test.max()], 'k--', lw=4)\n",
        "plt.xlabel('Actual')\n",
        "plt.ylabel('Predicted')\n",
        "plt.title(f'Lasso Regression\\nScore: {lasso_score:.2f}')\n",
        "\n",
        "# Ridge Regression Plot\n",
        "plt.subplot(1, 3, 3)\n",
        "plt.scatter(y_test, ridge_pred, color='green')\n",
        "plt.plot([y_test.min(), y_test.max()], [y_test.min(), y_test.max()], 'k--', lw=4)\n",
        "plt.xlabel('Actual')\n",
        "plt.ylabel('Predicted')\n",
        "plt.title(f'Ridge Regression\\nScore: {ridge_score:.2f}')\n",
        "\n",
        "plt.tight_layout()\n",
        "plt.show()\n"
      ],
      "metadata": {
        "colab": {
          "base_uri": "https://localhost:8080/",
          "height": 483
        },
        "id": "n0_h036sHpYU",
        "outputId": "09279693-07c7-4d27-f8d7-868b5ba53999"
      },
      "execution_count": null,
      "outputs": [
        {
          "output_type": "display_data",
          "data": {
            "text/plain": [
              "<Figure size 1800x600 with 3 Axes>"
            ],
            "image/png": "[encoded data removed]"
          },
          "metadata": {}
        }
      ]
    },
    {
      "cell_type": "markdown",
      "source": [
        "I will improve the score in another implementations"
      ],
      "metadata": {
        "id": "KN-QiP672Pn9"
      }
    }
  ]
}